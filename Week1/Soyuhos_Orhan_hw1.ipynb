{
 "cells": [
  {
   "cell_type": "markdown",
   "id": "da29e4f3-9c3c-4248-b33b-d0792c1ab85a",
   "metadata": {},
   "source": [
    "# # Homework: Week 1\n",
    "Orhan Soyuhos"
   ]
  },
  {
   "cell_type": "markdown",
   "id": "d47c004a-f28e-4581-9ff3-cea8472c476c",
   "metadata": {},
   "source": [
    "#### Bin sizes: 1ms, 5ms, 10ms, and 20ms\n",
    "\n",
    "1ms - rasters and PSTH\n",
    "\n",
    "5ms - rasters, PSTH, and receptive field analysis \n",
    "\n",
    "10ms, 20ms - PSTH"
   ]
  },
  {
   "cell_type": "code",
   "execution_count": 1,
   "id": "84f90df3-52a0-428d-abc1-c350f6da48c1",
   "metadata": {},
   "outputs": [],
   "source": [
    "import json\n",
    "import numpy as np\n",
    "import math\n",
    "import matplotlib.pyplot as plt"
   ]
  },
  {
   "cell_type": "code",
   "execution_count": 2,
   "id": "7f6a24c2-cb69-427c-9566-dff51adaf343",
   "metadata": {},
   "outputs": [],
   "source": [
    "bin_size = 0.005 #select: 0.001, 0.005, 0.01, 0.02\n",
    "idx = 'sig016b_event6' # select"
   ]
  },
  {
   "cell_type": "markdown",
   "id": "b549aa8c-adbc-4bd1-8fdf-f46b299ae4b1",
   "metadata": {},
   "source": [
    "## -> Dataset "
   ]
  },
  {
   "cell_type": "code",
   "execution_count": 3,
   "id": "9bdfe5fa-581b-4870-8a80-b9aff8881ceb",
   "metadata": {},
   "outputs": [
    {
     "data": {
      "text/plain": [
       "(dict_keys(['event_3', 'event_6']), dict_keys(['sig003a', 'sig016b']))"
      ]
     },
     "execution_count": 3,
     "metadata": {},
     "output_type": "execute_result"
    }
   ],
   "source": [
    "# Python: Reading JSON\n",
    "\n",
    "#open file\n",
    "f = open('hw1.json')\n",
    "hw1_data = json.load(f)\n",
    "f.close()\n",
    "\n",
    "events_data = hw1_data['events']\n",
    "neurons_data = hw1_data['neurons']\n",
    "\n",
    "event_3_data = np.array(events_data['event_3'])\n",
    "event_6_data = np.array(events_data['event_6'])\n",
    "sig003a_data = np.array(neurons_data['sig003a'])\n",
    "sig016b_data = np.array(neurons_data['sig016b'])\n",
    "\n",
    "events_data.keys(), neurons_data.keys()"
   ]
  },
  {
   "cell_type": "code",
   "execution_count": 4,
   "id": "c64eee9d-7e77-409a-af57-13e83403db00",
   "metadata": {},
   "outputs": [
    {
     "data": {
      "text/plain": [
       "(77, 80, 30316, 66168)"
      ]
     },
     "execution_count": 4,
     "metadata": {},
     "output_type": "execute_result"
    }
   ],
   "source": [
    "len(event_3_data), len(event_6_data), len(sig003a_data), len(sig016b_data)"
   ]
  },
  {
   "cell_type": "markdown",
   "id": "e2ac5654-decd-4cca-bdd4-a94258790559",
   "metadata": {},
   "source": [
    "### -> Calculate the relative_spikes"
   ]
  },
  {
   "cell_type": "code",
   "execution_count": 5,
   "id": "03521ed7-260c-4b72-a2c2-3aeedade5861",
   "metadata": {},
   "outputs": [
    {
     "data": {
      "text/plain": [
       "dict_keys(['sig003a_event3', 'sig003a_event6', 'sig016b_event3', 'sig016b_event6'])"
      ]
     },
     "execution_count": 5,
     "metadata": {},
     "output_type": "execute_result"
    }
   ],
   "source": [
    "relative_spikes = dict()\n",
    "\n",
    "tmp_data = list()\n",
    "for event_time in event_3_data:\n",
    "    tmp_data.append(list(sig003a_data - event_time))\n",
    "relative_spikes['sig003a_event3'] = tmp_data\n",
    "\n",
    "tmp_data = list()\n",
    "for event_time in event_6_data:\n",
    "    tmp_data.append(list(sig003a_data - event_time))\n",
    "relative_spikes['sig003a_event6'] = tmp_data\n",
    "\n",
    "tmp_data = list()\n",
    "for event_time in event_3_data:\n",
    "    tmp_data.append(list(sig016b_data - event_time))\n",
    "relative_spikes['sig016b_event3'] = tmp_data\n",
    "\n",
    "tmp_data = list()\n",
    "for event_time in event_6_data:\n",
    "    tmp_data.append(list(sig016b_data - event_time))\n",
    "relative_spikes['sig016b_event6'] = tmp_data\n",
    "\n",
    "relative_spikes.keys()"
   ]
  },
  {
   "cell_type": "markdown",
   "id": "1a5fd182-b124-4f67-af02-edc97e9fc536",
   "metadata": {},
   "source": [
    "### -> Calculate the relative response matrix (rrm)"
   ]
  },
  {
   "cell_type": "code",
   "execution_count": 6,
   "id": "c3cb9130-aa15-49f6-9293-d7f30a99fb6f",
   "metadata": {},
   "outputs": [],
   "source": [
    "def compute_rrm(relative_spikes, bin_size):\n",
    "\n",
    "    # Calculate the relative response matrix \n",
    "    rrm = []\n",
    "    for relative_spike in relative_spikes:\n",
    "        baseline_start = -0.2\n",
    "        baseline_end = 0\n",
    "        response_start = 0\n",
    "        response_end = 0.2\n",
    "        event_window = list(np.arange(baseline_start, response_end, bin_size))\n",
    "        total_bins = len(event_window)\n",
    "        # relative_spikes is the offset spike times for a given trial\n",
    "        # np.histogram returns an array [histogram, bin_edges] so the call below only grabs the histogram\n",
    "        binned_spikes = np.histogram(relative_spike, total_bins, range = (baseline_start, response_end))[0]\n",
    "        rrm.append(binned_spikes)\n",
    "\n",
    "    return rrm"
   ]
  },
  {
   "cell_type": "code",
   "execution_count": 7,
   "id": "f6a2e900-0a64-49ff-9b1a-dff65a07f787",
   "metadata": {},
   "outputs": [
    {
     "data": {
      "text/plain": [
       "dict_keys(['sig003a_event3', 'sig003a_event6', 'sig016b_event3', 'sig016b_event6'])"
      ]
     },
     "execution_count": 7,
     "metadata": {},
     "output_type": "execute_result"
    }
   ],
   "source": [
    "rrm = dict() \n",
    "\n",
    "# sig003a_event1\n",
    "relative_spi = relative_spikes['sig003a_event3']\n",
    "rrm['sig003a_event3'] = compute_rrm(relative_spi, bin_size)\n",
    "\n",
    "# sig003a_event4\n",
    "relative_spi = relative_spikes['sig003a_event6']\n",
    "rrm['sig003a_event6'] = compute_rrm(relative_spi, bin_size)\n",
    "\n",
    "# sig016b_event1\n",
    "relative_spi = relative_spikes['sig016b_event3']\n",
    "rrm['sig016b_event3'] = compute_rrm(relative_spi, bin_size)\n",
    "\n",
    "# sig016b_event4\n",
    "relative_spi = relative_spikes['sig016b_event6']\n",
    "rrm['sig016b_event6'] = compute_rrm(relative_spi, bin_size)\n",
    "\n",
    "rrm.keys()"
   ]
  },
  {
   "cell_type": "markdown",
   "id": "60814e79-3c57-42d3-b74d-0c789c9d662e",
   "metadata": {},
   "source": [
    "## # Receptive Field Analysis + Write JSON"
   ]
  },
  {
   "cell_type": "code",
   "execution_count": 8,
   "id": "f3e8b150-7601-45f7-9967-a3768a4fd08c",
   "metadata": {},
   "outputs": [],
   "source": [
    "def receptive_field_analysis(rrm):\n",
    "\n",
    "    results = dict()\n",
    "    \n",
    "    for idx in rrm.keys():\n",
    "\n",
    "        rrm_selected = rrm[idx]\n",
    "        psth = np.mean(rrm_selected, 0)\n",
    "\n",
    "        baseline_start = -0.2\n",
    "        response_end = 0.2\n",
    "        start_bin = len(rrm_selected[0]) // 2\n",
    "\n",
    "        # Calculate background firing rate, threshold, latencies, peak and response magnitude etc.\n",
    "        bfr = np.mean(psth[:start_bin]) \n",
    "        threshold = bfr + np.std(psth[:start_bin], ddof=1) * 3\n",
    "\n",
    "        fb = -1\n",
    "        lb = 0\n",
    "        peak = 0\n",
    "        for i in range(len(psth)):\n",
    "            if fb <= 0 and psth[i] > threshold:\n",
    "                fb = i\n",
    "            if psth[i] > threshold:\n",
    "                lb = i\n",
    "            if peak < psth[i]:\n",
    "                peak = psth[i]\n",
    "                peak_b = i\n",
    "\n",
    "        rm = np.sum(psth[fb:lb+1])\n",
    "\n",
    "        fbl = ((fb - start_bin) * bin_size) + bin_size/2\n",
    "        lbl = ((lb - start_bin) * bin_size) + bin_size/2\n",
    "        peak_latency = ((peak_b - start_bin) * bin_size) + bin_size/2\n",
    "            \n",
    "        neuron, event = idx.split('_') \n",
    "        if event not in results:\n",
    "            results[event] = dict()\n",
    "        if neuron not in results[event]:\n",
    "            results[event][neuron] = dict()\n",
    "        \n",
    "        results[event][neuron]['background_rate'] = bfr.tolist()\n",
    "        results[event][neuron]['first_bin'] = fb\n",
    "        results[event][neuron]['first_bin_latency'] = fbl\n",
    "        results[event][neuron]['last_bin'] = lb\n",
    "        results[event][neuron]['last_bin_latency'] = lbl\n",
    "        results[event][neuron]['peak_firing_rate'] = peak.tolist()\n",
    "        results[event][neuron]['peak_latency'] = peak_latency\n",
    "        results[event][neuron]['response_magnitude'] = rm.tolist()\n",
    "        results[event][neuron]['threshold'] = threshold.tolist()\n",
    "        results[event][neuron]['psth'] = psth.tolist()\n",
    "                \n",
    "    return results"
   ]
  },
  {
   "cell_type": "code",
   "execution_count": 9,
   "id": "5d004835-194d-4cef-985b-1273a2167b3a",
   "metadata": {},
   "outputs": [],
   "source": [
    "rfa_results = receptive_field_analysis(rrm)\n",
    "\n",
    "with open(f'Soyuhos_Orhan_hw1_{bin_size}.json', 'w') as f_out:\n",
    "    json.dump(rfa_results, f_out, indent=4, sort_keys=True)"
   ]
  },
  {
   "cell_type": "markdown",
   "id": "842b00c2-b0d3-48d1-83a7-88288bcc1fcb",
   "metadata": {},
   "source": [
    "## # Raster Plots\n",
    "Create a raster plot that has trial number on the y-axis and time on the x-axis where the spike times of the neuron are plotted relative to the stimulus time (set time zero to the stimulus time). The trial number comes from the identity of the stimulation times (trial 1 is the time of the first stimulus). For each neuron, for each stimulus (4 plots total), plot the spike times for every trial. Use a 1 millisecond resolution for the x axis and plot from 200ms before the stimulus to 200ms after the stimulus."
   ]
  },
  {
   "cell_type": "code",
   "execution_count": 10,
   "id": "a392940b-82fb-4efe-b9d0-2c5462e261e0",
   "metadata": {},
   "outputs": [
    {
     "data": {
      "text/plain": [
       "((80, 80), list)"
      ]
     },
     "execution_count": 10,
     "metadata": {},
     "output_type": "execute_result"
    }
   ],
   "source": [
    "rrm_selected = rrm[idx]\n",
    "np.shape(rrm_selected), type(rrm_selected)"
   ]
  },
  {
   "cell_type": "code",
   "execution_count": 11,
   "id": "0b0fbac2-7009-47c7-9e5b-6a65bba72832",
   "metadata": {},
   "outputs": [
    {
     "data": {
      "image/png": "[encoded data removed]",
      "text/plain": [
       "<Figure size 640x480 with 1 Axes>"
      ]
     },
     "metadata": {},
     "output_type": "display_data"
    }
   ],
   "source": [
    "baseline_start = -0.2\n",
    "response_end = 0.2\n",
    "raster_data = np.random.random([len(rrm_selected), len(rrm_selected[0])])\n",
    "for k in range(len(rrm_selected)):\n",
    "    for l in range(len(rrm_selected[k])):\n",
    "        if rrm_selected[k][l] == 0:\n",
    "            raster_data[k][l] = math.nan\n",
    "        else:\n",
    "            raster_data[k][l] = l * bin_size + baseline_start\n",
    "\n",
    "plt.eventplot(raster_data)\n",
    "plt.ylim([baseline_start, len(rrm_selected)])\n",
    "plt.xlim([baseline_start, response_end])\n",
    "plt.ylabel('Trial Number')\n",
    "plt.xlabel('Time (s)')\n",
    "plt.title(f'Raster Plot for {idx}_{bin_size}')\n",
    "plt.axvline(x = 0, color = 'red', linestyle = '--')\n",
    "\n",
    "plt.savefig(f'raster_{idx}_{str(bin_size)}.png')"
   ]
  },
  {
   "cell_type": "markdown",
   "id": "0b5ce643-cb86-4fa2-830e-32c216a3d3be",
   "metadata": {},
   "source": [
    "## # PSTH\n",
    "\n",
    "Create a normalized histogram (Normalize by total event trials) for each neuron for each event with 1ms, 5ms, 10ms, and 20ms bin sizes. Compare the histograms to each other and state which bin size you think best captures the neuron activity and why. Turn in the histogram for each bin size, for each neuron for each event."
   ]
  },
  {
   "cell_type": "code",
   "execution_count": 12,
   "id": "6b9174e5-9c36-4a6c-9c15-4afd72a044c4",
   "metadata": {},
   "outputs": [
    {
     "name": "stderr",
     "output_type": "stream",
     "text": [
      "/var/folders/1j/r5d3f6351yd2fkfgn9dl6mwh0000gq/T/ipykernel_22592/1063717666.py:18: UserWarning: FixedFormatter should only be used together with FixedLocator\n",
      "  ax.set_xticklabels([''] + xticklabels_str + [''])\n"
     ]
    },
    {
     "data": {
      "image/png": "[encoded data removed]",
      "text/plain": [
       "<Figure size 640x480 with 1 Axes>"
      ]
     },
     "metadata": {},
     "output_type": "display_data"
    }
   ],
   "source": [
    "baseline_start = -0.2\n",
    "response_end = 0.2\n",
    "\n",
    "# Calculate the PSTH     \n",
    "psth = np.mean(rrm_selected, 0)\n",
    "\n",
    "fig, ax = plt.subplots()\n",
    "\n",
    "ax.bar(range(len(rrm_selected[0])), psth)\n",
    "ax.set_xlabel('Time (s)')\n",
    "ax.set_title(f'PSTH for {idx}_{bin_size}')\n",
    "\n",
    "xticklabels = np.linspace(baseline_start, response_end, len(ax.get_xticklabels())-2)\n",
    "xticklabels_str = []\n",
    "for xticklabel in xticklabels:\n",
    "    xticklabels_str.append(str(round(xticklabel,2)))\n",
    "xticklabels_str\n",
    "ax.set_xticklabels([''] + xticklabels_str + [''])\n",
    "\n",
    "plt.show()\n",
    "fig.savefig(f'psth_{idx}_{str(bin_size)}.png')"
   ]
  },
  {
   "cell_type": "code",
   "execution_count": null,
   "id": "3911b9eb-a7f5-4dbb-be24-cb6355893c54",
   "metadata": {},
   "outputs": [],
   "source": []
  }
 ],
 "metadata": {
  "kernelspec": {
   "display_name": "Python 3 (ipykernel)",
   "language": "python",
   "name": "python3"
  },
  "language_info": {
   "codemirror_mode": {
    "name": "ipython",
    "version": 3
   },
   "file_extension": ".py",
   "mimetype": "text/x-python",
   "name": "python",
   "nbconvert_exporter": "python",
   "pygments_lexer": "ipython3",
   "version": "3.8.15"
  }
 },
 "nbformat": 4,
 "nbformat_minor": 5
}
