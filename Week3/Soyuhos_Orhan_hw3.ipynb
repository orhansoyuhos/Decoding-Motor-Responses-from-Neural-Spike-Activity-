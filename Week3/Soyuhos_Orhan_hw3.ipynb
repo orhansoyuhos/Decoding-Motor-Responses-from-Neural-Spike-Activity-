{
 "cells": [
  {
   "cell_type": "markdown",
   "id": "89e16b0f-667b-4e47-913d-47e1951d3b09",
   "metadata": {
    "tags": []
   },
   "source": [
    "# # Homework: Week 3\n",
    "Orhan Soyuhos"
   ]
  },
  {
   "cell_type": "code",
   "execution_count": 72,
   "id": "b2c2b472-d030-42b2-936b-8dbe6a4fe87d",
   "metadata": {},
   "outputs": [],
   "source": [
    "import json\n",
    "import numpy as np\n",
    "import math\n",
    "from sklearn.metrics import confusion_matrix, accuracy_score\n",
    "\n",
    "import seaborn as sn\n",
    "import pandas as pd\n",
    "import matplotlib.pyplot as plt"
   ]
  },
  {
   "cell_type": "markdown",
   "id": "f52cdc81-8e7c-4d35-b95b-98afc1145b7b",
   "metadata": {
    "tags": []
   },
   "source": [
    "## -> Dataset "
   ]
  },
  {
   "cell_type": "code",
   "execution_count": 7,
   "id": "14ed121f-d57d-42ab-8274-ec828891079d",
   "metadata": {},
   "outputs": [],
   "source": [
    "# Python: Reading JSON\n",
    "\n",
    "#open file\n",
    "f = open('hw3.json')\n",
    "example_data = json.load(f)\n",
    "f.close()\n",
    "\n",
    "events_data = example_data['events']\n",
    "neurons_data = example_data['neurons']"
   ]
  },
  {
   "cell_type": "code",
   "execution_count": 8,
   "id": "83df72bd-b51a-4449-899c-7155c45a1566",
   "metadata": {},
   "outputs": [
    {
     "data": {
      "text/plain": [
       "(dict_keys(['event_1', 'event_2', 'event_3', 'event_4']),\n",
       " 29,\n",
       " dict_keys(['sig001a', 'sig002a', 'sig002b', 'sig002c', 'sig003a', 'sig003b', 'sig004a', 'sig004b', 'sig005a', 'sig005b', 'sig006a', 'sig006b', 'sig006c', 'sig007a', 'sig007b', 'sig007c', 'sig008a', 'sig008b', 'sig008c', 'sig009a', 'sig010a', 'sig010b', 'sig011a', 'sig012a', 'sig013a', 'sig014a', 'sig015a', 'sig016a', 'sig016b']))"
      ]
     },
     "execution_count": 8,
     "metadata": {},
     "output_type": "execute_result"
    }
   ],
   "source": [
    "events_data.keys(), len(neurons_data.keys()), neurons_data.keys()"
   ]
  },
  {
   "cell_type": "markdown",
   "id": "34e98164-9515-413c-92bc-c4be014ed799",
   "metadata": {
    "tags": []
   },
   "source": [
    "## -> Store the data  "
   ]
  },
  {
   "cell_type": "code",
   "execution_count": 9,
   "id": "3b0e4d9c-1bdb-4b4f-8538-c4bc32f600c5",
   "metadata": {},
   "outputs": [],
   "source": [
    "class neuron:\n",
    "    def __init__(self, name, neurons_data, events_data):\n",
    "        self.name = name\n",
    "        self.neuron_data = np.array(neurons_data[name])\n",
    "        self.events_data = np.array(events_data)\n",
    "        \n",
    "    def relative_spike(self):\n",
    "        events_data_typeList = self.events_data.tolist()\n",
    "        neuron_data = self.neuron_data\n",
    "        relative_spikes = dict()\n",
    "        \n",
    "        for key, value in events_data_typeList.items():\n",
    "            tmp_data = list()\n",
    "            for event_time in value:\n",
    "                tmp_data.append(list(neuron_data - event_time))\n",
    "                relative_spikes[key] = tmp_data\n",
    "                \n",
    "        return relative_spikes\n",
    "    \n",
    "    def relative_response_matrix(self, bin_size):\n",
    "        relative_spikes = self.relative_spike()\n",
    "        rrm = dict() \n",
    "        \n",
    "        for event_key, relative_spikes in relative_spikes.items():            \n",
    "            rrm[event_key] = []\n",
    "            for relative_spike in relative_spikes:\n",
    "                response_start = 0\n",
    "                response_end = 0.2\n",
    "                response_window = list(np.arange(response_start, response_end, bin_size))\n",
    "                total_bins = len(response_window)\n",
    "                binned_spikes = np.histogram(relative_spike, total_bins, range = (response_start, response_end))[0]\n",
    "                rrm[event_key].append(binned_spikes)\n",
    "\n",
    "        return rrm\n",
    "    \n",
    "    def PSTH_template(self, bin_size):\n",
    "        rrm = self.relative_response_matrix(bin_size)\n",
    "        PSTH_template = dict()\n",
    "        \n",
    "        for event_key, rrm_value in rrm.items():   \n",
    "            PSTH_template[event_key] = rrm_value\n",
    "\n",
    "        return PSTH_template"
   ]
  },
  {
   "cell_type": "code",
   "execution_count": 10,
   "id": "9f469999-6911-4dcf-89af-4275d45ba156",
   "metadata": {},
   "outputs": [],
   "source": [
    "class events:\n",
    "    def __init__(self, neurons_data, events_data):\n",
    "        self.neurons_data = neurons_data\n",
    "        self.events_data = events_data\n",
    "        \n",
    "    def PSTH_templates(self, bin_size):        \n",
    "        PSTH_templates = dict()    \n",
    "        events_data = self.events_data\n",
    "        neurons_data = self.neurons_data\n",
    "        \n",
    "        for event_key, event_value in events_data.items():\n",
    "            PSTH_template = []\n",
    "            for neuron_key, neuron_value in neurons_data.items():\n",
    "                neuron_class = neuron(neuron_key, neurons_data, events_data)\n",
    "                tmp_template = neuron_class.PSTH_template(bin_size)\n",
    "                PSTH_template.append(tmp_template[event_key])\n",
    "            PSTH_templates[event_key] = np.array(PSTH_template)\n",
    "            \n",
    "        return PSTH_templates"
   ]
  },
  {
   "cell_type": "code",
   "execution_count": 11,
   "id": "dac15253-0252-49df-a152-608916d685f7",
   "metadata": {},
   "outputs": [],
   "source": [
    "all_events = events(neurons_data, events_data)\n",
    "\n",
    "#select: 0.005, 0.05, 0.2\n",
    "PSTH_templates_0005 = all_events.PSTH_templates(0.005)\n",
    "PSTH_templates_005 = all_events.PSTH_templates(0.05)\n",
    "PSTH_templates_02 = all_events.PSTH_templates(0.2)"
   ]
  },
  {
   "cell_type": "markdown",
   "id": "0f8ad4ad-1b0a-4ab9-9254-bb6a49b28d3c",
   "metadata": {
    "tags": []
   },
   "source": [
    "## -> Part 1: Creating the Classifier"
   ]
  },
  {
   "cell_type": "code",
   "execution_count": 44,
   "id": "dd4841c4-c81d-4efd-9911-7f2d471c4261",
   "metadata": {},
   "outputs": [
    {
     "data": {
      "text/plain": [
       "(29, 71, 1)"
      ]
     },
     "execution_count": 44,
     "metadata": {},
     "output_type": "execute_result"
    }
   ],
   "source": [
    "PSTH_templates_02['event_1'].shape"
   ]
  },
  {
   "cell_type": "code",
   "execution_count": 45,
   "id": "824d23ee-7f6e-447c-82fa-aff288e4085a",
   "metadata": {},
   "outputs": [],
   "source": [
    "def X_events(PSTH_templates):\n",
    "\n",
    "    event_1_T = np.transpose(PSTH_templates['event_1'], (1,0,2))\n",
    "    event_2_T = np.transpose(PSTH_templates['event_2'], (1,0,2))\n",
    "    event_3_T = np.transpose(PSTH_templates['event_3'], (1,0,2))\n",
    "    event_4_T = np.transpose(PSTH_templates['event_4'], (1,0,2))\n",
    "\n",
    "    X = dict()\n",
    "    X['event_1_T'] = event_1_T\n",
    "    X['event_2_T'] = event_2_T\n",
    "    X['event_3_T'] = event_3_T\n",
    "    X['event_4_T'] = event_4_T\n",
    "    \n",
    "    return X"
   ]
  },
  {
   "cell_type": "code",
   "execution_count": 46,
   "id": "e6f90e54-3d1f-42e6-9c09-b570f8d0a4ad",
   "metadata": {},
   "outputs": [],
   "source": [
    "X_0005 = X_events(PSTH_templates_0005)\n",
    "X_005 = X_events(PSTH_templates_005)\n",
    "X_02 = X_events(PSTH_templates_02)"
   ]
  },
  {
   "cell_type": "code",
   "execution_count": 47,
   "id": "bbe0e8fd-b19b-4119-b216-d4bc095d2a52",
   "metadata": {},
   "outputs": [],
   "source": [
    "class classifier:\n",
    "    def __init__(self, X):\n",
    "        self.event_1 = X['event_1_T'] \n",
    "        self.event_2 = X['event_2_T'] \n",
    "        self.event_3 = X['event_3_T']\n",
    "        self.event_4 = X['event_4_T']\n",
    "        self.temp_1 = np.mean(self.event_1, 0)\n",
    "        self.temp_2 = np.mean(self.event_2, 0)\n",
    "        self.temp_3 = np.mean(self.event_3, 0)\n",
    "        self.temp_4 = np.mean(self.event_4, 0)\n",
    "\n",
    "    def leave_one_out(self): \n",
    "        y_hats = []\n",
    "        for i in range(len(self.event_1)):    \n",
    "            left_out = self.event_1[i]\n",
    "            train_1 = np.delete(self.event_1, i, axis = 0)\n",
    "            temp_1 = np.mean(train_1, 0)\n",
    "            dist_1 = self.measure_dist(left_out, temp_1)\n",
    "            dist_2 = self.measure_dist(left_out, self.temp_2)\n",
    "            dist_3 = self.measure_dist(left_out, self.temp_3)\n",
    "            dist_4 = self.measure_dist(left_out, self.temp_4)\n",
    "            distances = np.append([], [dist_1, dist_2, dist_3, dist_4])\n",
    "            min_idx = distances.tolist().index(min(distances))\n",
    "            y_hats.append(self.predict(min_idx))\n",
    "\n",
    "        for i in range(len(self.event_2)):    \n",
    "            left_out = self.event_2[i]\n",
    "            train_2 = np.delete(self.event_2, i, axis = 0)\n",
    "            temp_2 = np.mean(train_2, 0)\n",
    "            dist_1 = self.measure_dist(left_out, self.temp_1)\n",
    "            dist_2 = self.measure_dist(left_out, temp_2)\n",
    "            dist_3 = self.measure_dist(left_out, self.temp_3)\n",
    "            dist_4 = self.measure_dist(left_out, self.temp_4)\n",
    "            distances = np.append([], [dist_1, dist_2, dist_3, dist_4])\n",
    "            min_idx = distances.tolist().index(min(distances))\n",
    "            y_hats.append(self.predict(min_idx))\n",
    "            \n",
    "        for i in range(len(self.event_3)):    \n",
    "            left_out = self.event_3[i]\n",
    "            train_3 = np.delete(self.event_3, i, axis = 0)\n",
    "            temp_3 = np.mean(train_3, 0)\n",
    "            dist_1 = self.measure_dist(left_out, self.temp_1)\n",
    "            dist_2 = self.measure_dist(left_out, self.temp_2)\n",
    "            dist_3 = self.measure_dist(left_out, temp_3)\n",
    "            dist_4 = self.measure_dist(left_out, self.temp_4)\n",
    "            distances = np.append([], [dist_1, dist_2, dist_3, dist_4])\n",
    "            min_idx = distances.tolist().index(min(distances))\n",
    "            y_hats.append(self.predict(min_idx))\n",
    "            \n",
    "        for i in range(len(self.event_4)):    \n",
    "            left_out = self.event_4[i]\n",
    "            train_4 = np.delete(self.event_4, i, axis = 0)\n",
    "            temp_4 = np.mean(train_4, 0)\n",
    "            dist_1 = self.measure_dist(left_out, self.temp_1)\n",
    "            dist_2 = self.measure_dist(left_out, self.temp_2)\n",
    "            dist_3 = self.measure_dist(left_out, self.temp_3)\n",
    "            dist_4 = self.measure_dist(left_out, temp_4)\n",
    "            distances = np.append([], [dist_1, dist_2, dist_3, dist_4])\n",
    "            min_idx = distances.tolist().index(min(distances))\n",
    "            y_hats.append(self.predict(min_idx))\n",
    "                \n",
    "        return y_hats\n",
    "\n",
    "    def predict(self, min_idx):        \n",
    "        if min_idx == 0:\n",
    "            y_hat = 1\n",
    "        elif min_idx == 1:\n",
    "            y_hat = 2\n",
    "        elif min_idx == 2:\n",
    "            y_hat = 3\n",
    "        elif min_idx == 3:\n",
    "            y_hat = 4\n",
    "        return y_hat\n",
    "    \n",
    "    def measure_dist(self, x, y):\n",
    "        distance = np.linalg.norm(np.array(x) - np.array(y))\n",
    "        return distance"
   ]
  },
  {
   "cell_type": "code",
   "execution_count": 49,
   "id": "4c3034ad-5e8b-46f2-84cc-dae04db616e7",
   "metadata": {},
   "outputs": [],
   "source": [
    "labels = [1]*X_02['event_1_T'].shape[0] + [2]*X_02['event_2_T'].shape[0] + [3]*X_02['event_3_T'].shape[0] + [4]*X_02['event_4_T'].shape[0]"
   ]
  },
  {
   "cell_type": "code",
   "execution_count": 50,
   "id": "ba856166-5cb7-4fb9-9752-4e6a31842671",
   "metadata": {},
   "outputs": [],
   "source": [
    "y_hats_0005 = classifier(X_0005).leave_one_out()\n",
    "y_hats_005 = classifier(X_005).leave_one_out()\n",
    "y_hats_02 = classifier(X_02).leave_one_out()"
   ]
  },
  {
   "cell_type": "markdown",
   "id": "0dcbe687-2020-4278-acd3-39d862192df7",
   "metadata": {
    "tags": []
   },
   "source": [
    "## -> Part 2: Confusion Matrix and Accuracy"
   ]
  },
  {
   "cell_type": "code",
   "execution_count": 51,
   "id": "9e451a89-460c-4e05-86c5-70ba388627f2",
   "metadata": {},
   "outputs": [],
   "source": [
    "result_confusion_0005 = confusion_matrix(labels, y_hats_0005)\n",
    "result_confusion_005 = confusion_matrix(labels, y_hats_005)\n",
    "result_confusion_02 = confusion_matrix(labels, y_hats_02)"
   ]
  },
  {
   "cell_type": "code",
   "execution_count": 52,
   "id": "fca7a72a-a655-4f0e-be75-105727753c05",
   "metadata": {},
   "outputs": [
    {
     "data": {
      "text/plain": [
       "(0.7366666666666667, 0.79, 0.6766666666666666)"
      ]
     },
     "execution_count": 52,
     "metadata": {},
     "output_type": "execute_result"
    }
   ],
   "source": [
    "accuracy_0005 = accuracy_score(labels, y_hats_0005)\n",
    "accuracy_005 = accuracy_score(labels, y_hats_005)\n",
    "accuracy_02 = accuracy_score(labels, y_hats_02)\n",
    "accuracy_0005, accuracy_005, accuracy_02"
   ]
  },
  {
   "cell_type": "markdown",
   "id": "5b07d958-7838-4162-b794-387bd05fe705",
   "metadata": {
    "tags": []
   },
   "source": [
    "## -> Part 3: Mutual Information"
   ]
  },
  {
   "cell_type": "code",
   "execution_count": 53,
   "id": "3c5271f5-f1c3-462e-9b7b-b446bec99070",
   "metadata": {},
   "outputs": [],
   "source": [
    "def mutual_info(result_confusion):\n",
    "\n",
    "    row_entropy = []\n",
    "    total = sum(sum(result_confusion))\n",
    "    for i in range(len(result_confusion)):\n",
    "        row = 0\n",
    "        for j in range(len(result_confusion)):\n",
    "            row += result_confusion[i][j]\n",
    "        row_entropy.append(row)\n",
    "\n",
    "\n",
    "    col_entropy = []\n",
    "    ele_e = 0\n",
    "    for i in range(len(result_confusion)):\n",
    "        col = 0\n",
    "        for j in range(len(result_confusion)):\n",
    "            e = result_confusion[j][i]/total\n",
    "            if e != 0:\n",
    "                ele_e += e * math.log(e, 2)\n",
    "            col += result_confusion[j][i]\n",
    "        col_entropy.append(col)\n",
    "\n",
    "\n",
    "    row_e = 0\n",
    "    col_e = 0\n",
    "    for i in range(len(col_entropy)):\n",
    "        r = row_entropy[i]/total\n",
    "        c = col_entropy[i]/total\n",
    "        col_e += c * math.log(c, 2)\n",
    "        row_e += r * math.log(r, 2)\n",
    "\n",
    "    row_e = row_e * -1\n",
    "    col_e = col_e * -1\n",
    "    ele_e = ele_e * -1\n",
    "\n",
    "    mutual_info = col_e + row_e - ele_e\n",
    "\n",
    "    return mutual_info"
   ]
  },
  {
   "cell_type": "code",
   "execution_count": 54,
   "id": "f7567344-b2a2-408f-8bd5-695d2aaff336",
   "metadata": {},
   "outputs": [
    {
     "data": {
      "text/plain": [
       "(0.8795225485801028, 1.0484113707244425, 0.6699668354280353)"
      ]
     },
     "execution_count": 54,
     "metadata": {},
     "output_type": "execute_result"
    }
   ],
   "source": [
    "mutual_info_0005 = mutual_info(result_confusion_0005)\n",
    "mutual_info_005 = mutual_info(result_confusion_005)\n",
    "mutual_info_02 = mutual_info(result_confusion_02)\n",
    "mutual_info_0005, mutual_info_005, mutual_info_02"
   ]
  },
  {
   "cell_type": "markdown",
   "id": "b310a6a6-2ddc-47b3-940a-4cd613347c37",
   "metadata": {
    "tags": []
   },
   "source": [
    "## # Save to JSON file"
   ]
  },
  {
   "cell_type": "code",
   "execution_count": 55,
   "id": "a581d863-9aa5-4b70-aa59-59c15bc6dfa6",
   "metadata": {},
   "outputs": [],
   "source": [
    "hw3_results = dict()\n",
    "\n",
    "hw3_results['bin_200ms'] = dict()\n",
    "hw3_results['bin_200ms']['performance'] = accuracy_02\n",
    "hw3_results['bin_200ms']['mutual_info'] = mutual_info_02\n",
    "hw3_results['bin_200ms']['confusion_matrix'] = result_confusion_02.tolist()\n",
    "\n",
    "hw3_results['bin_50ms'] = dict()\n",
    "hw3_results['bin_50ms']['performance'] = accuracy_005\n",
    "hw3_results['bin_50ms']['mutual_info'] = mutual_info_005\n",
    "hw3_results['bin_50ms']['confusion_matrix'] = result_confusion_005.tolist()\n",
    "\n",
    "hw3_results['bin_5ms'] = dict()\n",
    "hw3_results['bin_5ms']['performance'] = accuracy_0005\n",
    "hw3_results['bin_5ms']['mutual_info'] = mutual_info_0005\n",
    "hw3_results['bin_5ms']['confusion_matrix'] = result_confusion_0005.tolist()"
   ]
  },
  {
   "cell_type": "code",
   "execution_count": 56,
   "id": "e9ca378e-fcf7-487b-8a52-ab0518e48979",
   "metadata": {},
   "outputs": [],
   "source": [
    "with open('Soyuhos_Orhan_hw3.json', 'w') as f_out:\n",
    "    json.dump(hw3_results, f_out, indent=4, sort_keys=True)"
   ]
  },
  {
   "cell_type": "code",
   "execution_count": 69,
   "id": "99319caf-f7c7-4cc9-a76c-ea277f1b7160",
   "metadata": {},
   "outputs": [
    {
     "data": {
      "image/png": "[encoded data removed]",
      "text/plain": [
       "<Figure size 640x480 with 1 Axes>"
      ]
     },
     "metadata": {},
     "output_type": "display_data"
    }
   ],
   "source": [
    "plt.plot([mutual_info_0005, mutual_info_005, mutual_info_02])\n",
    "plt.plot([accuracy_0005, accuracy_005, accuracy_02])\n",
    "plt.legend(['mutual information', 'accuracy'])\n",
    "\n",
    "plt.xticks([0, 1, 2], ['0.005', '0.05', '0.2'])\n",
    "plt.xlabel('bin size')\n",
    "plt.title('mutual info ~ accuracy')\n",
    "plt.savefig('figure.png')"
   ]
  },
  {
   "cell_type": "code",
   "execution_count": 89,
   "id": "4a52efb3-5037-4270-93ff-e77e70af9ad6",
   "metadata": {},
   "outputs": [
    {
     "data": {
      "image/png": "[encoded data removed]",
      "text/plain": [
       "<Figure size 640x480 with 2 Axes>"
      ]
     },
     "metadata": {},
     "output_type": "display_data"
    },
    {
     "data": {
      "text/plain": [
       "array([[58,  4,  9,  0],\n",
       "       [ 7, 49,  9, 12],\n",
       "       [18,  4, 48,  2],\n",
       "       [ 0,  9,  5, 66]])"
      ]
     },
     "execution_count": 89,
     "metadata": {},
     "output_type": "execute_result"
    }
   ],
   "source": [
    "array = result_confusion_0005\n",
    "df_cm = pd.DataFrame(array)\n",
    "sn.set(font_scale=1.4) # for label size\n",
    "sns_plot = sn.heatmap(df_cm, annot=True, annot_kws={\"size\": 16}) # font size\n",
    "plt.title('result_confusion_0005')\n",
    "plt.show()\n",
    "sns_plot.figure.savefig(\"result_confusion_0005.png\")\n",
    "\n",
    "result_confusion_0005"
   ]
  },
  {
   "cell_type": "code",
   "execution_count": 91,
   "id": "3cde11c7-fcce-4131-b81b-0f602d30d496",
   "metadata": {},
   "outputs": [
    {
     "data": {
      "image/png": "[encoded data removed]",
      "text/plain": [
       "<Figure size 640x480 with 2 Axes>"
      ]
     },
     "metadata": {},
     "output_type": "display_data"
    },
    {
     "data": {
      "text/plain": [
       "array([[60,  5,  6,  0],\n",
       "       [17, 46,  2, 12],\n",
       "       [ 7,  3, 60,  2],\n",
       "       [ 0,  6,  3, 71]])"
      ]
     },
     "execution_count": 91,
     "metadata": {},
     "output_type": "execute_result"
    }
   ],
   "source": [
    "array = result_confusion_005\n",
    "df_cm = pd.DataFrame(array)\n",
    "sn.set(font_scale=1.4) # for label size\n",
    "sns_plot = sn.heatmap(df_cm, annot=True, annot_kws={\"size\": 16}) # font size\n",
    "plt.title('result_confusion_005')\n",
    "plt.show()\n",
    "sns_plot.figure.savefig(\"result_confusion_005.png\")\n",
    "\n",
    "result_confusion_005"
   ]
  },
  {
   "cell_type": "code",
   "execution_count": null,
   "id": "5adbc1a4-b76b-4fb1-a231-f12319139e19",
   "metadata": {},
   "outputs": [],
   "source": []
  }
 ],
 "metadata": {
  "kernelspec": {
   "display_name": "Python 3 (ipykernel)",
   "language": "python",
   "name": "python3"
  },
  "language_info": {
   "codemirror_mode": {
    "name": "ipython",
    "version": 3
   },
   "file_extension": ".py",
   "mimetype": "text/x-python",
   "name": "python",
   "nbconvert_exporter": "python",
   "pygments_lexer": "ipython3",
   "version": "3.8.15"
  }
 },
 "nbformat": 4,
 "nbformat_minor": 5
}
