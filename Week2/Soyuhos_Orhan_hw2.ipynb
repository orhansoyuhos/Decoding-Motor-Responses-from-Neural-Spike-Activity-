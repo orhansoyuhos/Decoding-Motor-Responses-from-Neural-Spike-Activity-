{
 "cells": [
  {
   "cell_type": "markdown",
   "id": "d9899bbe-8b4d-419a-8bc5-2caa4eb990c1",
   "metadata": {},
   "source": [
    "# # Homework: Week 2\n",
    "Orhan Soyuhos"
   ]
  },
  {
   "cell_type": "code",
   "execution_count": 1,
   "id": "f5b36985-23b9-43d9-949e-18c831fd6238",
   "metadata": {},
   "outputs": [],
   "source": [
    "import json\n",
    "import numpy as np\n",
    "import math\n",
    "import matplotlib.pyplot as plt"
   ]
  },
  {
   "cell_type": "code",
   "execution_count": 2,
   "id": "f4caa81d-df95-436d-bc22-f7cb35b81ff3",
   "metadata": {},
   "outputs": [],
   "source": [
    "bin_size = 0.005 #select: 0.001, 0.005, 0.01, 0.02"
   ]
  },
  {
   "cell_type": "markdown",
   "id": "de076189-a8d7-4628-931b-cd7707b8187c",
   "metadata": {},
   "source": [
    "## -> Dataset "
   ]
  },
  {
   "cell_type": "code",
   "execution_count": 3,
   "id": "48f0d194-b697-48f7-9ae5-19c70993c107",
   "metadata": {},
   "outputs": [
    {
     "data": {
      "text/plain": [
       "(dict_keys(['event_3', 'event_6']), dict_keys(['sig003a', 'sig016b']))"
      ]
     },
     "execution_count": 3,
     "metadata": {},
     "output_type": "execute_result"
    }
   ],
   "source": [
    "# Python: Reading JSON\n",
    "\n",
    "#open file\n",
    "f = open('hw2.json')\n",
    "hw2_data = json.load(f)\n",
    "f.close()\n",
    "\n",
    "events_data = hw2_data['events']\n",
    "neurons_data = hw2_data['neurons']\n",
    "\n",
    "event_3_data = np.array(events_data['event_3'])\n",
    "event_6_data = np.array(events_data['event_6'])\n",
    "sig003a_data = np.array(neurons_data['sig003a'])\n",
    "sig016b_data = np.array(neurons_data['sig016b'])\n",
    "\n",
    "events_data.keys(), neurons_data.keys()"
   ]
  },
  {
   "cell_type": "code",
   "execution_count": 4,
   "id": "6306a0cd-ca9a-4b8f-9865-2a82dde2a65b",
   "metadata": {},
   "outputs": [
    {
     "data": {
      "text/plain": [
       "(77, 80, 30316, 66168)"
      ]
     },
     "execution_count": 4,
     "metadata": {},
     "output_type": "execute_result"
    }
   ],
   "source": [
    "len(event_3_data), len(event_6_data), len(sig003a_data), len(sig016b_data)"
   ]
  },
  {
   "cell_type": "markdown",
   "id": "d0adf09e-0d3d-4c7c-a733-c88ea8e0ece1",
   "metadata": {},
   "source": [
    "### -> Calculate the relative_spikes"
   ]
  },
  {
   "cell_type": "code",
   "execution_count": 5,
   "id": "4c8a734b-7dba-41dc-a204-35e6dc158d15",
   "metadata": {},
   "outputs": [
    {
     "data": {
      "text/plain": [
       "dict_keys(['sig003a_event3', 'sig003a_event6', 'sig016b_event3', 'sig016b_event6'])"
      ]
     },
     "execution_count": 5,
     "metadata": {},
     "output_type": "execute_result"
    }
   ],
   "source": [
    "relative_spikes = dict()\n",
    "\n",
    "tmp_data = list()\n",
    "for event_time in event_3_data:\n",
    "    tmp_data.append(list(sig003a_data - event_time))\n",
    "relative_spikes['sig003a_event3'] = tmp_data\n",
    "\n",
    "tmp_data = list()\n",
    "for event_time in event_6_data:\n",
    "    tmp_data.append(list(sig003a_data - event_time))\n",
    "relative_spikes['sig003a_event6'] = tmp_data\n",
    "\n",
    "tmp_data = list()\n",
    "for event_time in event_3_data:\n",
    "    tmp_data.append(list(sig016b_data - event_time))\n",
    "relative_spikes['sig016b_event3'] = tmp_data\n",
    "\n",
    "tmp_data = list()\n",
    "for event_time in event_6_data:\n",
    "    tmp_data.append(list(sig016b_data - event_time))\n",
    "relative_spikes['sig016b_event6'] = tmp_data\n",
    "\n",
    "relative_spikes.keys()"
   ]
  },
  {
   "cell_type": "markdown",
   "id": "1c1fa7d0-c90b-4823-9324-ebc09ee98135",
   "metadata": {
    "tags": []
   },
   "source": [
    "### -> Calculate the relative response matrix (rrm)"
   ]
  },
  {
   "cell_type": "code",
   "execution_count": 6,
   "id": "9304a2f9-f4ac-40cc-9d13-fe6b1b89e605",
   "metadata": {},
   "outputs": [],
   "source": [
    "def compute_rrm(relative_spikes, bin_size): # only for response window\n",
    "\n",
    "    # Calculate the relative response matrix \n",
    "    rrm = []\n",
    "    for relative_spike in relative_spikes:\n",
    "        response_start = 0\n",
    "        response_end = 0.2\n",
    "        response_window = list(np.arange(response_start, response_end, bin_size))\n",
    "        total_bins = len(response_window)\n",
    "        # relative_spikes is the offset spike times for a given trial\n",
    "        # np.histogram returns an array [histogram, bin_edges] so the call below only grabs the histogram\n",
    "        binned_spikes = np.histogram(relative_spike, total_bins, range = (response_start, response_end))[0]\n",
    "        rrm.append(binned_spikes)\n",
    "\n",
    "    return rrm"
   ]
  },
  {
   "cell_type": "code",
   "execution_count": 7,
   "id": "f1c86d22-30db-4779-bc8a-5a1e9e5d46e4",
   "metadata": {},
   "outputs": [
    {
     "data": {
      "text/plain": [
       "dict_keys(['sig003a_event3', 'sig003a_event6', 'sig016b_event3', 'sig016b_event6'])"
      ]
     },
     "execution_count": 7,
     "metadata": {},
     "output_type": "execute_result"
    }
   ],
   "source": [
    "rrm = dict() \n",
    "\n",
    "# sig003a_event3\n",
    "relative_spi = relative_spikes['sig003a_event3']\n",
    "rrm['sig003a_event3'] = compute_rrm(relative_spi, bin_size)\n",
    "\n",
    "# sig003a_event6\n",
    "relative_spi = relative_spikes['sig003a_event6']\n",
    "rrm['sig003a_event6'] = compute_rrm(relative_spi, bin_size)\n",
    "\n",
    "# sig016b_event3\n",
    "relative_spi = relative_spikes['sig016b_event3']\n",
    "rrm['sig016b_event3'] = compute_rrm(relative_spi, bin_size)\n",
    "\n",
    "# sig016b_event6\n",
    "relative_spi = relative_spikes['sig016b_event6']\n",
    "rrm['sig016b_event6'] = compute_rrm(relative_spi, bin_size)\n",
    "\n",
    "rrm.keys()"
   ]
  },
  {
   "cell_type": "markdown",
   "id": "57be9967-5a59-4b42-89a4-b840b1849215",
   "metadata": {
    "tags": []
   },
   "source": [
    "## # Calculate the spike count probabilities"
   ]
  },
  {
   "cell_type": "code",
   "execution_count": 8,
   "id": "da8af141-334e-4ec0-a36d-0670c992b429",
   "metadata": {},
   "outputs": [],
   "source": [
    "count_prob = dict()\n",
    "H_count = dict()\n",
    "rrm_sum = dict()\n",
    "unique = dict()"
   ]
  },
  {
   "cell_type": "code",
   "execution_count": 9,
   "id": "f01fdc2c-2916-4d81-b7aa-a1c28c8a7f3f",
   "metadata": {},
   "outputs": [],
   "source": [
    "# sig003a_event3\n",
    "rrm_sum['sig003a_event3'] = np.sum(rrm['sig003a_event3'], 1)\n",
    "unique['sig003a_event3'], frequency = np.unique(rrm_sum['sig003a_event3'], return_counts = True)\n",
    "count_prob['sig003a_event3'] = frequency/sum(frequency)\n",
    "H_count['sig003a_event3'] = -1 * np.sum(count_prob['sig003a_event3'] * np.log(count_prob['sig003a_event3'])/np.log(2))\n",
    "\n",
    "# sig003a_event6\n",
    "rrm_sum['sig003a_event6'] = np.sum(rrm['sig003a_event6'], 1)\n",
    "unique['sig003a_event6'], frequency = np.unique(rrm_sum['sig003a_event6'], return_counts = True)\n",
    "count_prob['sig003a_event6'] = frequency/sum(frequency)\n",
    "H_count['sig003a_event6'] = -1 * np.sum(count_prob['sig003a_event6'] * np.log(count_prob['sig003a_event6'])/np.log(2))\n",
    "\n",
    "# sig016b_event3\n",
    "rrm_sum['sig016b_event3'] = np.sum(rrm['sig016b_event3'], 1)\n",
    "unique['sig016b_event3'], frequency = np.unique(rrm_sum['sig016b_event3'], return_counts = True)\n",
    "count_prob['sig016b_event3'] = frequency/sum(frequency)\n",
    "H_count['sig016b_event3'] = -1 * np.sum(count_prob['sig016b_event3'] * np.log(count_prob['sig016b_event3'])/np.log(2))\n",
    "\n",
    "# sig016b_event6\n",
    "rrm_sum['sig016b_event6'] = np.sum(rrm['sig016b_event6'], 1)\n",
    "unique['sig016b_event6'], frequency = np.unique(rrm_sum['sig016b_event6'], return_counts = True)\n",
    "count_prob['sig016b_event6'] = frequency/sum(frequency)\n",
    "H_count['sig016b_event6'] = -1 * np.sum(count_prob['sig016b_event6'] * np.log(count_prob['sig016b_event6'])/np.log(2))"
   ]
  },
  {
   "cell_type": "code",
   "execution_count": 10,
   "id": "f61d9616-d1da-47e7-90cf-3f68f17946e9",
   "metadata": {},
   "outputs": [],
   "source": [
    "unique_count_probab = dict()\n",
    "unique_count_probab['sig003a_event3'] = np.unique(count_prob['sig003a_event3'])\n",
    "unique_count_probab['sig003a_event6'] = np.unique(count_prob['sig003a_event6'])\n",
    "unique_count_probab['sig016b_event3'] = np.unique(count_prob['sig016b_event3'])\n",
    "unique_count_probab['sig016b_event6'] = np.unique(count_prob['sig016b_event6'])"
   ]
  },
  {
   "cell_type": "markdown",
   "id": "520ac49c-aab5-431b-8c6e-b6c4e80cba73",
   "metadata": {
    "tags": []
   },
   "source": [
    "## # Calculate the spike timing probabilities"
   ]
  },
  {
   "cell_type": "code",
   "execution_count": 11,
   "id": "3e2699ed-21b1-43c8-9590-eb236a6baa13",
   "metadata": {},
   "outputs": [],
   "source": [
    "timing_prob = dict()\n",
    "H_timing = dict()\n",
    "unique_ = dict()"
   ]
  },
  {
   "cell_type": "code",
   "execution_count": 12,
   "id": "4e662d32-4d4a-4296-ac8f-74d706205457",
   "metadata": {},
   "outputs": [],
   "source": [
    "# sig003a_event3\n",
    "unique_['sig003a_event3'], frequency = np.unique(rrm['sig003a_event3'], axis = 0, return_counts = True)\n",
    "timing_prob['sig003a_event3'] = frequency/sum(frequency)\n",
    "H_timing['sig003a_event3'] = -1 * np.sum(timing_prob['sig003a_event3'] * np.log(timing_prob['sig003a_event3'])/np.log(2))\n",
    "\n",
    "# sig003a_event6\n",
    "unique_['sig003a_event6'], frequency = np.unique(rrm['sig003a_event6'], axis = 0, return_counts = True)\n",
    "timing_prob['sig003a_event6'] = frequency/sum(frequency)\n",
    "H_timing['sig003a_event6'] = -1 * np.sum(timing_prob['sig003a_event6'] * np.log(timing_prob['sig003a_event6'])/np.log(2))\n",
    "\n",
    "# sig016b_event3\n",
    "unique_['sig016b_event3'], frequency = np.unique(rrm['sig016b_event3'], axis = 0, return_counts = True)\n",
    "timing_prob['sig016b_event3'] = frequency/sum(frequency)\n",
    "H_timing['sig016b_event3'] = -1 * np.sum(timing_prob['sig016b_event3'] * np.log(timing_prob['sig016b_event3'])/np.log(2))\n",
    "\n",
    "# sig016b_event6\n",
    "unique_['sig016b_event6'], frequency = np.unique(rrm['sig016b_event6'], axis = 0, return_counts = True)\n",
    "timing_prob['sig016b_event6'] = frequency/sum(frequency)\n",
    "H_timing['sig016b_event6'] = -1 * np.sum(timing_prob['sig016b_event6'] * np.log(timing_prob['sig016b_event6'])/np.log(2))"
   ]
  },
  {
   "cell_type": "code",
   "execution_count": 13,
   "id": "ae02058f-68ec-4ff5-91e3-158193b4f90e",
   "metadata": {},
   "outputs": [],
   "source": [
    "unique_timing_probab = dict()\n",
    "unique_timing_probab['sig003a_event3'] = np.unique(timing_prob['sig003a_event3'])\n",
    "unique_timing_probab['sig003a_event6'] = np.unique(timing_prob['sig003a_event6'])\n",
    "unique_timing_probab['sig016b_event3'] = np.unique(timing_prob['sig016b_event3'])\n",
    "unique_timing_probab['sig016b_event6'] = np.unique(timing_prob['sig016b_event6'])"
   ]
  },
  {
   "cell_type": "markdown",
   "id": "76d5413e-0b12-4be4-9422-b73105c72b49",
   "metadata": {
    "tags": []
   },
   "source": [
    "# # Mutual info for spike count\n",
    "Finds the information for a neuron spike counts across stimulus"
   ]
  },
  {
   "cell_type": "markdown",
   "id": "d72b80c3-6b96-46b3-a215-baf111d3d714",
   "metadata": {
    "tags": []
   },
   "source": [
    "### -> Calculate p(rj|si) for spike counts\n",
    "probality of response given an event"
   ]
  },
  {
   "cell_type": "code",
   "execution_count": 14,
   "id": "295e198c-36d6-49d2-ab4f-6069a52a490a",
   "metadata": {},
   "outputs": [],
   "source": [
    "def check_ifInside(pair, mylist):\n",
    "    inside = False\n",
    "    for ii in mylist:\n",
    "        isTrue = []\n",
    "        for kk in range(len(ii)):\n",
    "            isTrue.append(ii[kk] == pair[kk])\n",
    "\n",
    "        if sum(isTrue) == len(ii):\n",
    "            inside = True \n",
    "            break\n",
    "            \n",
    "    return inside"
   ]
  },
  {
   "cell_type": "code",
   "execution_count": 15,
   "id": "7368def4-ffe3-4a90-9830-32498102f2da",
   "metadata": {},
   "outputs": [],
   "source": [
    "def prob_mutualInfo(neuron, unique, prob, case):\n",
    "    \n",
    "    unique_list = dict()\n",
    "    tmp_count = dict()\n",
    "    tmp_count[f'{neuron}_event3'] = list()\n",
    "    tmp_count[f'{neuron}_event6'] = list()\n",
    "    \n",
    "    if case == 1:\n",
    "        unique_list['for_mutualInfo'] = np.unique(np.append(unique[f'{neuron}_event3'], unique[f'{neuron}_event6']))\n",
    "\n",
    "        idx = 0 \n",
    "        kk = 0\n",
    "        for ii in unique_list['for_mutualInfo']:\n",
    "            if ii in unique[f'{neuron}_event3']:\n",
    "                tmp_count[f'{neuron}_event3'].append(prob[f'{neuron}_event3'][kk])\n",
    "                kk += 1\n",
    "            else:\n",
    "                tmp_count[f'{neuron}_event3'].append(0)   \n",
    "\n",
    "        idx = 0 \n",
    "        kk = 0\n",
    "        for ii in unique_list['for_mutualInfo']:\n",
    "            if ii in unique[f'{neuron}_event6']:\n",
    "                tmp_count[f'{neuron}_event6'].append(prob[f'{neuron}_event6'][kk])\n",
    "                kk += 1\n",
    "            else:\n",
    "                tmp_count[f'{neuron}_event6'].append(0)  \n",
    "                \n",
    "    elif case == 2:\n",
    "        unique_list['for_mutualInfo'] = np.unique(np.concatenate([unique[f'{neuron}_event3'], unique[f'{neuron}_event6']]), axis = 0)\n",
    "        \n",
    "        idx = 0 \n",
    "        kk = 0\n",
    "        for ii in unique_list['for_mutualInfo']:\n",
    "            if check_ifInside(ii, unique[f'{neuron}_event3']):\n",
    "                tmp_count[f'{neuron}_event3'].append(prob[f'{neuron}_event3'][kk])\n",
    "                kk += 1\n",
    "            else:\n",
    "                tmp_count[f'{neuron}_event3'].append(0)  \n",
    "\n",
    "        idx = 0 \n",
    "        kk = 0\n",
    "        for ii in unique_list['for_mutualInfo']:\n",
    "            if check_ifInside(ii, unique[f'{neuron}_event6']):\n",
    "                tmp_count[f'{neuron}_event6'].append(prob[f'{neuron}_event6'][kk])\n",
    "                kk += 1\n",
    "            else:\n",
    "                tmp_count[f'{neuron}_event6'].append(0)  \n",
    "\n",
    "    return unique_list, tmp_count"
   ]
  },
  {
   "cell_type": "code",
   "execution_count": 16,
   "id": "609842a3-4a58-41b4-bfaf-0ede550a27cf",
   "metadata": {},
   "outputs": [],
   "source": [
    "# spike count related variables\n",
    "sig003a = dict()\n",
    "sig003a['spikeCount'] = dict()\n",
    "sig003a['spikeCount'][0], sig003a['spikeCount'][1] = prob_mutualInfo('sig003a', unique, count_prob, case=1)\n",
    "sig003a['spikeCount'][3] = count_prob\n",
    "\n",
    "sig016b = dict()\n",
    "sig016b['spikeCount'] = dict()\n",
    "sig016b['spikeCount'][0], sig016b['spikeCount'][1] = prob_mutualInfo('sig016b', unique, count_prob, case=1)\n",
    "sig016b['spikeCount'][3] = count_prob"
   ]
  },
  {
   "cell_type": "code",
   "execution_count": 17,
   "id": "6d407f30-973c-405b-9431-8328ce1fc740",
   "metadata": {},
   "outputs": [],
   "source": [
    "# spike timing related variables\n",
    "sig003a['timingCount'] = dict()\n",
    "sig003a['timingCount'][0], sig003a['timingCount'][1] = prob_mutualInfo('sig003a', unique_, timing_prob, case=2)\n",
    "sig003a['timingCount'][3] = timing_prob\n",
    "\n",
    "sig016b['timingCount'] = dict()\n",
    "sig016b['timingCount'][0], sig016b['timingCount'][1] = prob_mutualInfo('sig016b', unique_, timing_prob, case=2)\n",
    "sig016b['timingCount'][3] = timing_prob"
   ]
  },
  {
   "cell_type": "markdown",
   "id": "c1570603-b3ba-499b-ba92-b728f1e6f723",
   "metadata": {
    "tags": []
   },
   "source": [
    "### -> Calculate p(rj) for spike count\n",
    "probability of response across all events"
   ]
  },
  {
   "cell_type": "code",
   "execution_count": 18,
   "id": "e8fb8d5e-bf33-4b47-8df1-5ed3ab99b1f5",
   "metadata": {},
   "outputs": [],
   "source": [
    "total_trials = len(rrm_sum['sig003a_event3']) + len(rrm_sum['sig003a_event6'])\n",
    "p_event = dict()\n",
    "p_event['1'] = len(rrm_sum['sig003a_event3'])/total_trials\n",
    "p_event['4'] = len(rrm_sum['sig003a_event6'])/total_trials"
   ]
  },
  {
   "cell_type": "code",
   "execution_count": 19,
   "id": "00ef679c-3ae8-4953-8ebb-a5010303fcac",
   "metadata": {},
   "outputs": [],
   "source": [
    "def calculate_p_response(neuron, neuron_dict, p_event):\n",
    "    p_response = dict()\n",
    "    p_response[f'{neuron}_event3'] = [x * p_event['1'] for x in neuron_dict[1][f'{neuron}_event3']]\n",
    "    p_response[f'{neuron}_event6'] = [x * p_event['4'] for x in neuron_dict[1][f'{neuron}_event6']]\n",
    "    p_response[neuron] = [sum(x) for x in zip(p_response[f'{neuron}_event3'], p_response[f'{neuron}_event6'])]\n",
    "    \n",
    "    return p_response"
   ]
  },
  {
   "cell_type": "code",
   "execution_count": 20,
   "id": "06213982-0af1-481d-8aae-f6e715700bb5",
   "metadata": {},
   "outputs": [],
   "source": [
    "p_response = dict()\n",
    "p_response['spikeCount'] = dict()\n",
    "p_response['spikeCount'].update(calculate_p_response('sig003a', sig003a['spikeCount'], p_event))\n",
    "p_response['spikeCount'].update(calculate_p_response('sig016b', sig016b['spikeCount'], p_event))\n",
    "\n",
    "p_response['timingCount'] = dict()\n",
    "p_response['timingCount'].update(calculate_p_response('sig003a', sig003a['timingCount'], p_event))\n",
    "p_response['timingCount'].update(calculate_p_response('sig016b', sig016b['timingCount'], p_event))"
   ]
  },
  {
   "cell_type": "markdown",
   "id": "2dbfe31e-28ba-465e-b41d-9bb3a7f5b5db",
   "metadata": {
    "tags": []
   },
   "source": [
    "### -> Calculate mutual info for spike count\n",
    "Finds the information for a neuron spike counts across stimulus"
   ]
  },
  {
   "cell_type": "code",
   "execution_count": 21,
   "id": "5bbcf826-9a42-4b3d-803d-3fe45a7a71ec",
   "metadata": {},
   "outputs": [],
   "source": [
    "def calculate_mutualInfo(neuron, neuron_dict, unique, p_response, p_event, case):\n",
    "    \n",
    "    p_r = dict()\n",
    "    if case == 1: \n",
    "        p_r[f'unique_{neuron}_event3'] = [p_response[neuron][neuron_dict[0]['for_mutualInfo'].tolist().index(i)] for i in unique[f'{neuron}_event3']]\n",
    "        p_r[f'unique_{neuron}_event6'] = [p_response[neuron][neuron_dict[0]['for_mutualInfo'].tolist().index(i)] for i in unique[f'{neuron}_event6']]\n",
    "    elif case == 2:\n",
    "        p_r[f'unique_{neuron}_event3'] = [p_response[neuron][np.flatnonzero((neuron_dict[0]['for_mutualInfo'] == i).all(1))[0]] for i in unique[f'{neuron}_event3']]\n",
    "        p_r[f'unique_{neuron}_event6'] = [p_response[neuron][np.flatnonzero((neuron_dict[0]['for_mutualInfo'] == i).all(1))[0]] for i in unique[f'{neuron}_event6']]\n",
    "  \n",
    "    p_rj_si = dict()\n",
    "    p_rj_si[f'{neuron}_event3'] = [a / b for a,b in zip(neuron_dict[3][f'{neuron}_event3'], p_r[f'unique_{neuron}_event3'])]\n",
    "    p_rj_si[f'{neuron}_event6'] = [a / b for a,b in zip(neuron_dict[3][f'{neuron}_event6'], p_r[f'unique_{neuron}_event6'])]\n",
    "\n",
    "    event_3_MI = dict()\n",
    "    event_6_MI = dict()\n",
    "    event_3_MI[neuron] = p_event['1'] * np.sum(neuron_dict[3][f'{neuron}_event3'] * (np.log(p_rj_si[f'{neuron}_event3'])/np.log(2)))\n",
    "    event_6_MI[neuron] = p_event['4'] * np.sum(neuron_dict[3][f'{neuron}_event6'] * (np.log(p_rj_si[f'{neuron}_event6'])/np.log(2)))\n",
    "\n",
    "    MI = event_3_MI[neuron] + event_6_MI[neuron]\n",
    "        \n",
    "    return MI"
   ]
  },
  {
   "cell_type": "code",
   "execution_count": 22,
   "id": "3457a023-326e-4795-85f2-00e5ff0f1606",
   "metadata": {},
   "outputs": [],
   "source": [
    "MI = dict()\n",
    "MI['spikeCount'] = dict() \n",
    "MI['spikeCount']['sig003a'] = calculate_mutualInfo('sig003a', sig003a['spikeCount'], unique, p_response['spikeCount'], p_event, case=1)\n",
    "MI['spikeCount']['sig016b'] = calculate_mutualInfo('sig016b', sig016b['spikeCount'], unique, p_response['spikeCount'], p_event, case=1)"
   ]
  },
  {
   "cell_type": "code",
   "execution_count": 23,
   "id": "02ec08c7-915b-44fd-9923-305fa991cf3d",
   "metadata": {},
   "outputs": [],
   "source": [
    "MI['timingCount'] = dict() \n",
    "MI['timingCount']['sig003a'] = calculate_mutualInfo('sig003a', sig003a['timingCount'], unique_, p_response['timingCount'], p_event, case=2)\n",
    "MI['timingCount']['sig016b'] = calculate_mutualInfo('sig016b', sig016b['timingCount'], unique_, p_response['timingCount'], p_event, case=2)"
   ]
  },
  {
   "cell_type": "code",
   "execution_count": 24,
   "id": "1f2d9b0d-9a32-4fe0-8f43-42b8c1cfaf8d",
   "metadata": {},
   "outputs": [
    {
     "data": {
      "text/plain": [
       "{'sig003a': 0.09944874368992068, 'sig016b': 0.1289004917394201}"
      ]
     },
     "execution_count": 24,
     "metadata": {},
     "output_type": "execute_result"
    }
   ],
   "source": [
    "MI['spikeCount']"
   ]
  },
  {
   "cell_type": "code",
   "execution_count": 25,
   "id": "36816981-ee93-41ca-821e-1ac2d71c7614",
   "metadata": {},
   "outputs": [
    {
     "data": {
      "text/plain": [
       "{'sig003a': 0.9997366009648985, 'sig016b': 0.9997366009648985}"
      ]
     },
     "execution_count": 25,
     "metadata": {},
     "output_type": "execute_result"
    }
   ],
   "source": [
    "MI['timingCount']"
   ]
  },
  {
   "cell_type": "markdown",
   "id": "eace4756-4905-4cef-96e3-76e677b03c5f",
   "metadata": {
    "tags": []
   },
   "source": [
    "# # Joint Mutual info for spike count\n",
    "Finds the information between neurons across stimulus"
   ]
  },
  {
   "cell_type": "markdown",
   "id": "13b7d854-4758-4a0f-8301-e1f938eb7a8a",
   "metadata": {
    "tags": []
   },
   "source": [
    "### -> Calculate p(rj|si) for spike count\n",
    "probability of response across neurons given specific stimulus"
   ]
  },
  {
   "cell_type": "code",
   "execution_count": 26,
   "id": "0b3ad541-0f52-4e1d-92d7-2f860b817932",
   "metadata": {},
   "outputs": [],
   "source": [
    "rrm_sum['event3_sig003a_sig016b'] = np.array([rrm_sum['sig003a_event3'], rrm_sum['sig016b_event3']]).T\n",
    "unique['event3_sig003a_sig016b'], frequency = np.unique(rrm_sum['event3_sig003a_sig016b'], axis = 0, return_counts = True)\n",
    "count_prob['event3_sig003a_sig016b'] = frequency/sum(frequency)\n",
    "\n",
    "rrm_sum['event6_sig003a_sig016b'] = np.array([rrm_sum['sig003a_event6'], rrm_sum['sig016b_event6']]).T\n",
    "unique['event6_sig003a_sig016b'], frequency = np.unique(rrm_sum['event6_sig003a_sig016b'], axis = 0, return_counts = True)\n",
    "count_prob['event6_sig003a_sig016b'] = frequency/sum(frequency)"
   ]
  },
  {
   "cell_type": "markdown",
   "id": "3a24122a-e042-4e5f-a886-a075f435978e",
   "metadata": {
    "tags": []
   },
   "source": [
    "### -> Calculate p(rj|si) for spike counts\n",
    "probality of response given an event"
   ]
  },
  {
   "cell_type": "code",
   "execution_count": 27,
   "id": "2f2fe6eb-b855-4d8b-bce2-014eaea45456",
   "metadata": {},
   "outputs": [],
   "source": [
    "def check_ifInside_2(pair, mylist):\n",
    "    inside = False\n",
    "    for ii in mylist:\n",
    "        if pair[0] == ii[0] and pair[1] == ii[1]:\n",
    "            inside = True \n",
    "            break\n",
    "            \n",
    "    return inside"
   ]
  },
  {
   "cell_type": "code",
   "execution_count": 28,
   "id": "071894cf-9948-4e18-a771-04b017ede07c",
   "metadata": {},
   "outputs": [],
   "source": [
    "unique_list = dict()\n",
    "unique_list['for_jointMutualInfo'] = np.unique(np.concatenate([unique['event3_sig003a_sig016b'], unique['event6_sig003a_sig016b']]), axis = 0)\n",
    "\n",
    "tmp_count = dict()\n",
    "tmp_count['event3_sig003a_sig016b'] = list()\n",
    "idx = 0 \n",
    "kk = 0\n",
    "for ii in unique_list['for_jointMutualInfo']:\n",
    "    if check_ifInside(ii, unique['event3_sig003a_sig016b']):\n",
    "        tmp_count['event3_sig003a_sig016b'].append(count_prob['event3_sig003a_sig016b'][kk])\n",
    "        kk += 1\n",
    "    else:\n",
    "        tmp_count['event3_sig003a_sig016b'].append(0)   \n",
    "        \n",
    "tmp_count['event6_sig003a_sig016b'] = list()\n",
    "idx = 0 \n",
    "kk = 0\n",
    "for ii in unique_list['for_jointMutualInfo']:\n",
    "    if check_ifInside(ii, unique['event6_sig003a_sig016b']):\n",
    "        tmp_count['event6_sig003a_sig016b'].append(count_prob['event6_sig003a_sig016b'][kk])\n",
    "        kk += 1\n",
    "    else:\n",
    "        tmp_count['event6_sig003a_sig016b'].append(0)  "
   ]
  },
  {
   "cell_type": "markdown",
   "id": "f9298f70-a0e1-45ed-9626-655534272e1c",
   "metadata": {
    "tags": []
   },
   "source": [
    "### -> Calculate p(rj) for spike count\n",
    "probability of response across all events"
   ]
  },
  {
   "cell_type": "code",
   "execution_count": 29,
   "id": "bf16db08-5747-4d9c-ab6d-2408fc918187",
   "metadata": {},
   "outputs": [],
   "source": [
    "total_trials = len(rrm_sum['event3_sig003a_sig016b']) + len(rrm_sum['event6_sig003a_sig016b'])\n",
    "p_event3 = len(rrm_sum['event3_sig003a_sig016b'])/total_trials\n",
    "p_event6 = len(rrm_sum['event6_sig003a_sig016b'])/total_trials"
   ]
  },
  {
   "cell_type": "code",
   "execution_count": 30,
   "id": "7d4e6d0a-ab9b-4656-a8c4-5239cbe1523f",
   "metadata": {},
   "outputs": [],
   "source": [
    "p_response = dict()\n",
    "p_response['event3_sig003a_sig016b'] = [x * p_event3 for x in tmp_count['event3_sig003a_sig016b']]\n",
    "p_response['event6_sig003a_sig016b'] = [x * p_event6 for x in tmp_count['event6_sig003a_sig016b']]\n",
    "p_response['sig003a_sig016b'] = [sum(x) for x in zip(p_response['event3_sig003a_sig016b'], p_response['event6_sig003a_sig016b'])]"
   ]
  },
  {
   "cell_type": "markdown",
   "id": "86b4513b-8dcf-4803-8799-0836f338c16a",
   "metadata": {
    "tags": []
   },
   "source": [
    "### -> Calculate mutual info for spike count\n",
    "Finds the information for a neuron spike counts across stimulus"
   ]
  },
  {
   "cell_type": "code",
   "execution_count": 31,
   "id": "902a7c9b-6901-4e73-8e4c-5474e6812214",
   "metadata": {},
   "outputs": [],
   "source": [
    "p_response['unique_event3_sig003a_sig016b'] = [p_response['sig003a_sig016b'][unique_list['for_jointMutualInfo'].tolist().index(i.tolist())] for i in unique['event3_sig003a_sig016b']]\n",
    "p_response['unique_event6_sig003a_sig016b'] = [p_response['sig003a_sig016b'][unique_list['for_jointMutualInfo'].tolist().index(i.tolist())] for i in unique['event6_sig003a_sig016b']]"
   ]
  },
  {
   "cell_type": "code",
   "execution_count": 32,
   "id": "734012e3-15f8-4360-8802-42254e2372ae",
   "metadata": {},
   "outputs": [
    {
     "data": {
      "text/plain": [
       "0.5340078399536643"
      ]
     },
     "execution_count": 32,
     "metadata": {},
     "output_type": "execute_result"
    }
   ],
   "source": [
    "p_rj_si = dict()\n",
    "p_rj_si['event3_sig003a_sig016b'] = [a / b for a,b in zip(count_prob['event3_sig003a_sig016b'], p_response['unique_event3_sig003a_sig016b'])]\n",
    "p_rj_si['event6_sig003a_sig016b'] = [a / b for a,b in zip(count_prob['event6_sig003a_sig016b'], p_response['unique_event6_sig003a_sig016b'])]\n",
    "\n",
    "event_3_JMI = dict()\n",
    "event_6_JMI = dict()\n",
    "event_3_JMI['sig003a_sig016b'] = p_event3 * np.sum(count_prob['event3_sig003a_sig016b'] * (np.log(p_rj_si['event3_sig003a_sig016b'])/np.log(2)))\n",
    "event_6_JMI['sig003a_sig016b'] = p_event6 * np.sum(count_prob['event6_sig003a_sig016b'] * (np.log(p_rj_si['event6_sig003a_sig016b'])/np.log(2)))\n",
    "     \n",
    "JMI = dict()    \n",
    "JMI['sig003a_sig016b'] = event_3_JMI['sig003a_sig016b'] + event_6_JMI['sig003a_sig016b']\n",
    "JMI['sig003a_sig016b']"
   ]
  },
  {
   "cell_type": "markdown",
   "id": "baf0f081-d9f8-4ab0-b48b-f7577c7c7d4a",
   "metadata": {
    "tags": []
   },
   "source": [
    "# # Synergy Redundancy"
   ]
  },
  {
   "cell_type": "code",
   "execution_count": 33,
   "id": "dad52686-4706-42e3-b734-23d1848dc579",
   "metadata": {},
   "outputs": [
    {
     "data": {
      "text/plain": [
       "0.30565860452432353"
      ]
     },
     "execution_count": 33,
     "metadata": {},
     "output_type": "execute_result"
    }
   ],
   "source": [
    "syn_red = JMI['sig003a_sig016b'] - MI['spikeCount']['sig003a'] - MI['spikeCount']['sig016b']  \n",
    "syn_red"
   ]
  },
  {
   "cell_type": "markdown",
   "id": "ecf27b67-4e35-45d1-8557-faad9b4e4b33",
   "metadata": {
    "tags": []
   },
   "source": [
    "# # Save to JSON file"
   ]
  },
  {
   "cell_type": "code",
   "execution_count": 34,
   "id": "5ac6ff8d-b138-4fba-bbfc-8f94c7563010",
   "metadata": {},
   "outputs": [],
   "source": [
    "hw2_results = dict()\n",
    "hw2_results['event_3_prob'] = p_event3\n",
    "hw2_results['event_6_prob'] = p_event6\n",
    "hw2_results['joint_mutual_info'] = JMI['sig003a_sig016b'].tolist()\n",
    "hw2_results['synergy_redundancy'] = syn_red.tolist()\n",
    "\n",
    "#sig003a\n",
    "hw2_results['sig003a'] = dict()\n",
    "hw2_results['sig003a']['count_mutual_info'] = MI['spikeCount']['sig003a'].tolist()\n",
    "hw2_results['sig003a']['timing_mutual_info'] = MI['timingCount']['sig003a'].tolist()\n",
    "\n",
    "hw2_results['sig003a']['event_3'] = dict()\n",
    "hw2_results['sig003a']['event_3']['count_entropy'] = H_count['sig003a_event3'].tolist()\n",
    "hw2_results['sig003a']['event_3']['timing_entropy'] = H_timing['sig003a_event3'].tolist()\n",
    "hw2_results['sig003a']['event_3']['unique_count_prob'] = unique_count_probab['sig003a_event3'].tolist()\n",
    "hw2_results['sig003a']['event_3']['unique_timing_prob'] = unique_timing_probab['sig003a_event3'].tolist()\n",
    "\n",
    "hw2_results['sig003a']['event_6'] = dict()\n",
    "hw2_results['sig003a']['event_6']['count_entropy'] = H_count['sig003a_event6'].tolist()\n",
    "hw2_results['sig003a']['event_6']['timing_entropy'] = H_timing['sig003a_event6'].tolist()\n",
    "hw2_results['sig003a']['event_6']['unique_count_prob'] = unique_count_probab['sig003a_event6'].tolist()\n",
    "hw2_results['sig003a']['event_6']['unique_timing_prob'] = unique_timing_probab['sig003a_event6'].tolist()\n",
    "\n",
    "#sig016b\n",
    "hw2_results['sig016b'] = dict()\n",
    "hw2_results['sig016b']['count_mutual_info'] = MI['spikeCount']['sig016b'].tolist()\n",
    "hw2_results['sig016b']['timing_mutual_info'] = MI['timingCount']['sig016b'].tolist()\n",
    "\n",
    "hw2_results['sig016b']['event_3'] = dict()\n",
    "hw2_results['sig016b']['event_3']['count_entropy'] = H_count['sig016b_event3'].tolist()\n",
    "hw2_results['sig016b']['event_3']['timing_entropy'] = H_timing['sig016b_event3'].tolist()\n",
    "hw2_results['sig016b']['event_3']['unique_count_prob'] = unique_count_probab['sig016b_event3'].tolist()\n",
    "hw2_results['sig016b']['event_3']['unique_timing_prob'] = unique_timing_probab['sig016b_event3'].tolist()\n",
    "\n",
    "hw2_results['sig016b']['event_6'] = dict()\n",
    "hw2_results['sig016b']['event_6']['count_entropy'] = H_count['sig016b_event6'].tolist()\n",
    "hw2_results['sig016b']['event_6']['timing_entropy'] = H_timing['sig016b_event6'].tolist()\n",
    "hw2_results['sig016b']['event_6']['unique_count_prob'] = unique_count_probab['sig016b_event6'].tolist()\n",
    "hw2_results['sig016b']['event_6']['unique_timing_prob'] = unique_timing_probab['sig016b_event6'].tolist()"
   ]
  },
  {
   "cell_type": "code",
   "execution_count": 35,
   "id": "a41f08dd-50e4-496c-8691-4851b860da88",
   "metadata": {},
   "outputs": [
    {
     "data": {
      "text/plain": [
       "'0005'"
      ]
     },
     "execution_count": 35,
     "metadata": {},
     "output_type": "execute_result"
    }
   ],
   "source": [
    "tmp_bin = str(bin_size)[0] + str(bin_size)[2:]\n",
    "tmp_bin"
   ]
  },
  {
   "cell_type": "code",
   "execution_count": 36,
   "id": "f899db7a-5534-4313-910e-156332a449a6",
   "metadata": {},
   "outputs": [],
   "source": [
    "with open(f'Soyuhos_Orhan_hw2_{tmp_bin}.json', 'w') as f_out:\n",
    "    json.dump(hw2_results, f_out, indent=4, sort_keys=True)"
   ]
  },
  {
   "cell_type": "code",
   "execution_count": null,
   "id": "161d9a54-5c4e-4a13-b8a5-7fdc91e5ca37",
   "metadata": {},
   "outputs": [],
   "source": []
  }
 ],
 "metadata": {
  "kernelspec": {
   "display_name": "Python 3 (ipykernel)",
   "language": "python",
   "name": "python3"
  },
  "language_info": {
   "codemirror_mode": {
    "name": "ipython",
    "version": 3
   },
   "file_extension": ".py",
   "mimetype": "text/x-python",
   "name": "python",
   "nbconvert_exporter": "python",
   "pygments_lexer": "ipython3",
   "version": "3.8.15"
  }
 },
 "nbformat": 4,
 "nbformat_minor": 5
}
